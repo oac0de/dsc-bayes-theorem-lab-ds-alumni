{
 "cells": [
  {
   "cell_type": "markdown",
   "metadata": {},
   "source": [
    "# Bayes' Theorem - Lab\n",
    "\n",
    "## Introduction\n",
    "\n",
    "In this lab, you'll practice Bayes' Theorem in some simple word problems. \n",
    "\n",
    "## Objectives\n",
    "In this lab you will be able to: \n",
    "\n",
    "- Use Bayes' theorem to determine the probability of specific events "
   ]
  },
  {
   "cell_type": "markdown",
   "metadata": {},
   "source": [
    "## Define a custom function for Bayes' theorem\n",
    "\n",
    "To start, write a function, `bayes()`, which takes in the probability of A, the probability of B, and the probability of B given A. From this, the function should then return the conditional probability of A, given that B is true."
   ]
  },
  {
   "cell_type": "code",
   "execution_count": 1,
   "metadata": {
    "ExecuteTime": {
     "end_time": "2020-12-22T13:52:47.519073Z",
     "start_time": "2020-12-22T13:52:47.516019Z"
    }
   },
   "outputs": [],
   "source": [
    "def bayes(P_a, P_b, P_b_given_a):\n",
    "    \n",
    "    P_a_given_b = (P_b_given_a*P_a)/P_b\n",
    "    \n",
    "    return P_a_given_b"
   ]
  },
  {
   "cell_type": "markdown",
   "metadata": {},
   "source": [
    "## Skin Cancer\n",
    "\n",
    "After a physical exam, a doctor observes a blemish on a client's arm. The doctor is concerned that the blemish could be cancerous, but tells the patient to be calm and that it's probably benign. Of those with skin cancer, 100% have such blemishes. However, 20% of those without skin cancer also have such blemishes. If 15% of the population has skin cancer, what's the probability that this patient has skin cancer? \n",
    "\n",
    "> Hint: Be sure to calculate the overall rate of blemishes across the entire population."
   ]
  },
  {
   "cell_type": "code",
   "execution_count": 2,
   "metadata": {
    "ExecuteTime": {
     "end_time": "2020-12-22T13:53:03.273399Z",
     "start_time": "2020-12-22T13:53:03.269204Z"
    }
   },
   "outputs": [
    {
     "data": {
      "text/plain": [
       "0.46875"
      ]
     },
     "execution_count": 2,
     "metadata": {},
     "output_type": "execute_result"
    }
   ],
   "source": [
    "#P(blem|can) = 1\n",
    "#P(blem|~can) = .20\n",
    "#P(can) = .15\n",
    "\n",
    "#This is the question problem: P(can|blem) = (P(blem|can)*P(can)) / P(blem)\n",
    "\n",
    "#P(b) = (P(b|a))*P(a) + (P(b|~a)*P(~a)\n",
    "\n",
    "#we can re-write the prob of having a blemish as follows:\n",
    "\n",
    "#P(blem) = (P(blem|can)*P(can)) + (P(blem|~can)*P(~can)\n",
    "#P(blem) = (1*.15) + (.20*.85) = 0.32\n",
    "\n",
    "bayes(.15, 0.32, 1)\n"
   ]
  },
  {
   "cell_type": "markdown",
   "metadata": {},
   "source": [
    "## Children (I) \n",
    "\n",
    "A couple has two children, the older of which is a boy. What is the probability that they have two boys?"
   ]
  },
  {
   "cell_type": "code",
   "execution_count": 5,
   "metadata": {
    "ExecuteTime": {
     "end_time": "2020-12-22T14:25:34.671336Z",
     "start_time": "2020-12-22T14:25:34.666910Z"
    }
   },
   "outputs": [
    {
     "data": {
      "text/plain": [
       "0.5"
      ]
     },
     "execution_count": 5,
     "metadata": {},
     "output_type": "execute_result"
    }
   ],
   "source": [
    "# P(2boys|older child is a boy) = (P(older child is a boy|2boys)*P(2boys) / P(older child is a boy))\n",
    "#P(older child is a boy|2boys) = 1\n",
    "#P(2boys) = .5 * .5 = 0.25\n",
    "#P(older child is a boy) = .5\n",
    "\n",
    "bayes(0.25, .5, 1)"
   ]
  },
  {
   "cell_type": "markdown",
   "metadata": {},
   "source": [
    "## Children  (II)\n",
    "\n",
    "A couple has two children, one of which is a boy. What is the probability that they have two boys?"
   ]
  },
  {
   "cell_type": "code",
   "execution_count": 9,
   "metadata": {
    "ExecuteTime": {
     "end_time": "2020-12-22T14:46:02.516048Z",
     "start_time": "2020-12-22T14:46:02.511874Z"
    }
   },
   "outputs": [
    {
     "data": {
      "text/plain": [
       "0.3333333333333333"
      ]
     },
     "execution_count": 9,
     "metadata": {},
     "output_type": "execute_result"
    }
   ],
   "source": [
    "#P(2boys|1 of 2 children is a boy) = (P(1 of 2 children is a boy|2boys)*P(2boys) / P(1 of 2 children is a boy))\n",
    "#P(1 of 2 children is a boy|2boys) = 1\n",
    "#P(2boys) = 0.25\n",
    "##P(1 of 2 children is a boy) - this is an independent event, NOT MUTUALLY EXCLUSIVE, both can happen \n",
    "#      so P(first is boy AND(∩) second is boy) = P(first is boy(.5)) * P(second is boy(.5))\n",
    "#      P(1 out of (∪) 2 is boy)  =  P(first is boy(.5))+ P(second is boy(.5)) - P(first is boy AND(∩) second is boy) .\n",
    "#P(1 of 2 children is a boy) = .5 + .5 - (.5 * .5) = 0.75\n",
    "\n",
    "bayes(0.25, 0.75, 1)\n"
   ]
  },
  {
   "cell_type": "markdown",
   "metadata": {},
   "source": [
    "## A diagnostic test\n",
    "\n",
    "A diagnostic test is advertised as being 99% accurate \n",
    "\n",
    "* If a patient has the disease, they  will test positive 99% of the time \n",
    "\n",
    "* If they don't have the disease, they will test negative 99% of the time  \n",
    "\n",
    "* 1% of all people have this disease \n",
    "\n",
    "If a patient tests positive, what is the probability that they actually have the disease?"
   ]
  },
  {
   "cell_type": "code",
   "execution_count": 11,
   "metadata": {
    "ExecuteTime": {
     "end_time": "2020-12-22T15:28:38.383955Z",
     "start_time": "2020-12-22T15:28:38.379091Z"
    },
    "scrolled": false
   },
   "outputs": [
    {
     "data": {
      "text/plain": [
       "0.5"
      ]
     },
     "execution_count": 11,
     "metadata": {},
     "output_type": "execute_result"
    }
   ],
   "source": [
    "# Your solution P(Disease | positive test) = P(A | B)\n",
    "# P(positive test | disease) = .99\n",
    "# P(positive test | ~disease) = 0.01\n",
    "# P(disease) = 0.01\n",
    "# P(~disease) = 0.99\n",
    "# P(positive test) = ? P(B) = (P(b|a)*P(a)) + (P(b|~a)*P(~a))\n",
    "#   P(positive test) = P(B) = (0.99*0.01) + (0.01*0.99) = 0.0198\n",
    "\n",
    "#P(Disease | positive test) = (P(positive test | disease)*P(positive test)) / P(disease)\n",
    "#P(Disease | positive test) = (.99 * 0.0198) / 0.01\n",
    "\n",
    "bayes(0.01, 0.0198, 0.99)"
   ]
  },
  {
   "cell_type": "markdown",
   "metadata": {},
   "source": [
    "THOUGHTS: Despite my answer being correct, my mind is still blown and am now remembering this same feeling when I did the problem the first time. If a patient tests positive, how can the probability that they actually have the disease be 50% if the test is 99% accurate?? I think this has to do with the situational difference. If we test someone randomly, that is their probability. However this still defies the accuracy of the test... The loop begins again."
   ]
  },
  {
   "cell_type": "markdown",
   "metadata": {},
   "source": [
    "## Summary \n",
    "\n",
    "In this lab, you practiced a few simple examples of Bayesian logic and how you can add prior information to update your beliefs about the chance of events."
   ]
  }
 ],
 "metadata": {
  "kernelspec": {
   "display_name": "Python 3",
   "language": "python",
   "name": "python3"
  },
  "language_info": {
   "codemirror_mode": {
    "name": "ipython",
    "version": 3
   },
   "file_extension": ".py",
   "mimetype": "text/x-python",
   "name": "python",
   "nbconvert_exporter": "python",
   "pygments_lexer": "ipython3",
   "version": "3.6.9"
  },
  "toc": {
   "base_numbering": 1,
   "nav_menu": {},
   "number_sections": true,
   "sideBar": true,
   "skip_h1_title": false,
   "title_cell": "Table of Contents",
   "title_sidebar": "Contents",
   "toc_cell": false,
   "toc_position": {},
   "toc_section_display": true,
   "toc_window_display": false
  },
  "varInspector": {
   "cols": {
    "lenName": 16,
    "lenType": 16,
    "lenVar": 40
   },
   "kernels_config": {
    "python": {
     "delete_cmd_postfix": "",
     "delete_cmd_prefix": "del ",
     "library": "var_list.py",
     "varRefreshCmd": "print(var_dic_list())"
    },
    "r": {
     "delete_cmd_postfix": ") ",
     "delete_cmd_prefix": "rm(",
     "library": "var_list.r",
     "varRefreshCmd": "cat(var_dic_list()) "
    }
   },
   "types_to_exclude": [
    "module",
    "function",
    "builtin_function_or_method",
    "instance",
    "_Feature"
   ],
   "window_display": false
  }
 },
 "nbformat": 4,
 "nbformat_minor": 2
}
